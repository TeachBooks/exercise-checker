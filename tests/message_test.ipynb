{
 "cells": [
  {
   "cell_type": "code",
   "execution_count": 19,
   "metadata": {},
   "outputs": [],
   "source": [
    "from IPython.display import display\n",
    "import ipywidgets as widgets\n",
    "from math import isclose\n",
    "import numpy "
   ]
  },
  {
   "cell_type": "code",
   "execution_count": 20,
   "metadata": {},
   "outputs": [],
   "source": [
    "\n",
    "def check(f):\n",
    "    def wrapper(ex, *args, **kwargs):\n",
    "        # Get properties from the dictionary (such as description and error_message)\n",
    "        text = ex[\"button\"].get(\"text\", \"Check Answer(s)\")  # Default if not provided\n",
    "        error = ex[\"button\"].get(\"error\", \"Something went wrong. Have you filled all the functions and run the cells?\") # Default if not provided\n",
    "\n",
    "        output = widgets.Output()\n",
    "        button = widgets.Button(description=text)\n",
    "        @output.capture(clear_output=True,wait=True)\n",
    "        def _inner_check(button):\n",
    "            try:\t\n",
    "                f(ex, *args, **kwargs)\n",
    "            except Exception as e:\n",
    "                print(error)\n",
    "                print(f\"Error details: {e}\")\n",
    "        button.on_click(_inner_check)\n",
    "        display(button, output)\n",
    "    return wrapper\n",
    "\n",
    "@check\n",
    "def check_exercise(ex, glob):\n",
    "    check_float = lambda a, b: isclose(a, b, rel_tol=0, abs_tol=ex[\"tolerance\"])\n",
    "    check_string = lambda a,b: a == b\n",
    "    \n",
    "    if not ex:\n",
    "        print(\"Empty exercise.\")\n",
    "        return\n",
    "\n",
    "    elif ex[\"type\"] == \"values\":\n",
    "\n",
    "        # Initialize result as an empty list\n",
    "        result = []\n",
    "        for i in range(len(ex[\"values\"])):\n",
    "            # Access global variables dynamically\n",
    "            result.append(glob[ex[\"variables\"][i]])\n",
    "\n",
    "            if ex[\"types\"] == \"int\":\n",
    "                if result[i] == ex[\"values\"][i]:\n",
    "                    print(f\"You got the parameter '{ex['variables'][i]}' right, well done!\")\n",
    "                else:\n",
    "                    print(f\"The parameter '{ex['variables'][i]}' is incorrect.\")\n",
    "                    print(\"          Other parts won't be graded until these are fixed.\")\n",
    "                    return\n",
    "            elif ex[\"types\"] == \"float\":\n",
    "                # Check if the values match within tolerance\n",
    "                if check_float(result[i], ex[\"values\"][i]):\n",
    "                    # print(f\"You got the parameter '{ex['variables'][i]}' right, well done! (checked with tolerance {ex['tolerance']})\")\n",
    "                    # Access the \"correct\" and \"tol\" inside the \"correct\" dictionary\n",
    "                    correct_message = ex[\"correct\"].get(\"correct\", \"This is correct!\")\n",
    "                    tol_message = ex[\"correct\"].get(\"tol\", \"Checked with tolerance\")\n",
    "                    \n",
    "                    print(f\"{ex['variables'][i]} {correct_message}. {tol_message} {ex['tolerance']}\")\n",
    "                else:\n",
    "                    # Access \"incorrect\" message\n",
    "                    incorrect_message = ex[\"incorrect\"].get(\"incorrect\", \"This is incorrect.\")\n",
    "                    tol_message = ex[\"correct\"].get(\"tol\", \"Checked with tolerance\")\n",
    "                    # print(f\"The parameter '{ex['variables'][i]}' is incorrect. (checked with tolerance {ex['tolerance']})\")\n",
    "                    print(f\"{ex['variables'][i]} {incorrect_message}. {tol_message} {ex['tolerance']}\")\n",
    "                    print(\"          Other parts won't be graded until these are fixed.\")\n",
    "                    return\n",
    "            else: \n",
    "                print(\"You haven't assigned a type to the value/s that you want to check!\")\n",
    "                print(\"             Please add it in your dictionary exercise in the category 'types'.\")\n",
    "                return\n",
    "\n",
    "    "
   ]
  },
  {
   "cell_type": "code",
   "execution_count": 21,
   "metadata": {},
   "outputs": [],
   "source": [
    "button = {\"text\": \"My custom button text\",\n",
    "                 \"error\": \"my custom error message\"}\n",
    "\n",
    "exercise = {\n",
    "    \"type\": \"values\",\n",
    "    \"types\": \"float\",\n",
    "    \"tolerance\": 0.01,\n",
    "    \"variables\": ['multiplication', 'addition'],\n",
    "    \"values\": [13.889, 7.53],\n",
    "    \"button\": button,\n",
    "    \"correct\": {\"correct\": \"is done properly!\",\n",
    "                \"tol\":\"checked with\"},\n",
    "    \"incorrect\": {\"incorrect\": \"is not done properly, how sad!\"},\n",
    "}"
   ]
  },
  {
   "cell_type": "code",
   "execution_count": 22,
   "metadata": {},
   "outputs": [],
   "source": [
    "# input two values to be multiplied \n",
    "x1 = 3.23\n",
    "x2 = 4.3\n",
    "\n",
    "# student will insert the result here\n",
    "multiplication = 13.8\n",
    "addition = 7.53\n"
   ]
  },
  {
   "cell_type": "code",
   "execution_count": 23,
   "metadata": {},
   "outputs": [
    {
     "data": {
      "application/vnd.jupyter.widget-view+json": {
       "model_id": "5776b9aa2957451d9bfaaf859c14f258",
       "version_major": 2,
       "version_minor": 0
      },
      "text/plain": [
       "Button(description='My custom button text', style=ButtonStyle())"
      ]
     },
     "metadata": {},
     "output_type": "display_data"
    },
    {
     "data": {
      "application/vnd.jupyter.widget-view+json": {
       "model_id": "0cc10edcafa6464586ddc692c80b23ff",
       "version_major": 2,
       "version_minor": 0
      },
      "text/plain": [
       "Output()"
      ]
     },
     "metadata": {},
     "output_type": "display_data"
    }
   ],
   "source": [
    "check_exercise(exercise, globals())"
   ]
  }
 ],
 "metadata": {
  "kernelspec": {
   "display_name": "mec",
   "language": "python",
   "name": "python3"
  },
  "language_info": {
   "codemirror_mode": {
    "name": "ipython",
    "version": 3
   },
   "file_extension": ".py",
   "mimetype": "text/x-python",
   "name": "python",
   "nbconvert_exporter": "python",
   "pygments_lexer": "ipython3",
   "version": "3.11.7"
  }
 },
 "nbformat": 4,
 "nbformat_minor": 2
}
