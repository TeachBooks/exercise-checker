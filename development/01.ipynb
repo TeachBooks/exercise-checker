{
 "cells": [
  {
   "cell_type": "markdown",
   "metadata": {},
   "source": [
    "# Test 01\n",
    "\n",
    "This notebook contains several example with simple functions such as multiplication and addition to verify the code works.\n",
    "\n",
    "The first section sets up the development environment, then the second section contains the demonstrations."
   ]
  },
  {
   "cell_type": "markdown",
   "metadata": {},
   "source": [
    "## Development Setup\n",
    "\n",
    "This section is used to set up the development environment. See README for up-to-date information."
   ]
  },
  {
   "cell_type": "code",
   "execution_count": 26,
   "metadata": {},
   "outputs": [
    {
     "name": "stdout",
     "output_type": "stream",
     "text": [
      "The autoreload extension is already loaded. To reload it, use:\n",
      "  %reload_ext autoreload\n"
     ]
    }
   ],
   "source": [
    "%load_ext autoreload\n",
    "%autoreload 2"
   ]
  },
  {
   "cell_type": "code",
   "execution_count": 27,
   "metadata": {},
   "outputs": [],
   "source": [
    "import os\n",
    "import sys\n",
    "module_path = os.path.abspath(os.path.join('..'))\n",
    "if module_path not in sys.path:\n",
    "    sys.path.append(module_path)"
   ]
  },
  {
   "cell_type": "code",
   "execution_count": 28,
   "metadata": {},
   "outputs": [],
   "source": [
    "from exercise_checker.check import check\n",
    "from exercise_checker.check import check_example\n",
    "assert callable(check)\n",
    "assert callable(check_example)"
   ]
  },
  {
   "cell_type": "markdown",
   "metadata": {},
   "source": [
    "## Start of Demonstration\n",
    "\n",
    "From this cell on, things should look as they would in a \"real\" notebook in a TeachBook."
   ]
  },
  {
   "cell_type": "code",
   "execution_count": 29,
   "metadata": {},
   "outputs": [],
   "source": [
    "import numpy as np"
   ]
  },
  {
   "cell_type": "markdown",
   "metadata": {},
   "source": [
    "## Result Checker Example"
   ]
  },
  {
   "cell_type": "code",
   "execution_count": 30,
   "metadata": {},
   "outputs": [],
   "source": [
    "# Creating a dictionary where the type of exercise and the solution will be stored\n",
    "exercise = {\n",
    "    \"type\": \"values\",\n",
    "    \"tolerance\": 0.01,\n",
    "    \"variables\": ['multiplication', 'addition'],\n",
    "    \"values\": [13.889, 7.53],\n",
    "}"
   ]
  },
  {
   "cell_type": "code",
   "execution_count": 31,
   "metadata": {},
   "outputs": [],
   "source": [
    "# exercise script for checking values\n",
    "# input two values to be multiplied \n",
    "x1 = 3.23\n",
    "x2 = 4.3\n",
    "\n",
    "# student will insert the result here\n",
    "multiplication = 13.89\n",
    "addition = 7.53\n"
   ]
  },
  {
   "cell_type": "code",
   "execution_count": 32,
   "metadata": {},
   "outputs": [
    {
     "data": {
      "application/vnd.jupyter.widget-view+json": {
       "model_id": "6cfc3dc4665d4f40b4b1eb726b69fab0",
       "version_major": 2,
       "version_minor": 0
      },
      "text/plain": [
       "Button(description='Check Answer(s)', style=ButtonStyle())"
      ]
     },
     "metadata": {},
     "output_type": "display_data"
    },
    {
     "data": {
      "application/vnd.jupyter.widget-view+json": {
       "model_id": "dac899e22fc9492bb93761ee073dad4e",
       "version_major": 2,
       "version_minor": 0
      },
      "text/plain": [
       "Output()"
      ]
     },
     "metadata": {},
     "output_type": "display_data"
    }
   ],
   "source": [
    "check_example(globals(), exercise)"
   ]
  },
  {
   "cell_type": "markdown",
   "metadata": {},
   "source": [
    "## Function Checker Example"
   ]
  },
  {
   "cell_type": "code",
   "execution_count": 33,
   "metadata": {},
   "outputs": [],
   "source": [
    "exercise_2 = {\n",
    "    \"type\": \"function\",\n",
    "    \"tolerance\": 0.01,\n",
    "    \"function\": 'find_x_with_probability_p',\n",
    "    \"inputs\": [(1 - 0.001, 15.891029744351862), (1 - 0.2, 2.0838374640878863), (1 - 0.9, -3.875794191615308)],\n",
    "}\n",
    "\n",
    "\n",
    "#!!!! The dictionaries must be recalled with the above categories name otherwise function won't work "
   ]
  },
  {
   "cell_type": "code",
   "execution_count": 34,
   "metadata": {},
   "outputs": [],
   "source": [
    "# exercise script for checking function\n",
    "\n",
    "def find_x_with_probability_p(p): \n",
    "    \"\"\" Compute point in the gumbel distribution for which the CDF is p\n",
    "        Use the variables mu and beta defined above!\n",
    "        Hint: they have been defined globally, so you don't need to \n",
    "                include them as arguments.\n",
    "    \"\"\"\n",
    "    mu = -1.7461\n",
    "    beta = 2.55342\n",
    "    x = mu - beta * np.log(-np.log(p))\n",
    "\n",
    "    return x\n"
   ]
  },
  {
   "cell_type": "code",
   "execution_count": 35,
   "metadata": {},
   "outputs": [
    {
     "data": {
      "application/vnd.jupyter.widget-view+json": {
       "model_id": "6f025468cc2f43779c193de0e2cacb76",
       "version_major": 2,
       "version_minor": 0
      },
      "text/plain": [
       "Button(description='Check Answer(s)', style=ButtonStyle())"
      ]
     },
     "metadata": {},
     "output_type": "display_data"
    },
    {
     "data": {
      "application/vnd.jupyter.widget-view+json": {
       "model_id": "8e9ba1d10ad3443a8dc9eaf616d40153",
       "version_major": 2,
       "version_minor": 0
      },
      "text/plain": [
       "Output()"
      ]
     },
     "metadata": {},
     "output_type": "display_data"
    }
   ],
   "source": [
    "check_example(globals(), exercise_2)"
   ]
  },
  {
   "cell_type": "markdown",
   "metadata": {},
   "source": [
    "## String Checker Example"
   ]
  },
  {
   "cell_type": "code",
   "execution_count": 36,
   "metadata": {},
   "outputs": [],
   "source": [
    "exercise_3 = {\n",
    "    \"type\": \"strings\",\n",
    "    \"variables\": ['name', 'full_name'],\n",
    "    \"values\": ['Federico', 'Federico Raimondi'],\n",
    "}\n",
    "\n",
    "\n",
    "#!!!! The dictionaries must be recalled with the above categories name otherwise function won't work "
   ]
  },
  {
   "cell_type": "code",
   "execution_count": 37,
   "metadata": {},
   "outputs": [
    {
     "name": "stdout",
     "output_type": "stream",
     "text": [
      "Full Name: Federico Raimondi\n"
     ]
    }
   ],
   "source": [
    "# exercise script for checking strings\n",
    "# Define the name and surname variables\n",
    "name = \"Federico\"\n",
    "surname = \"Raimondi\"\n",
    "\n",
    "# Combine them to create the full name\n",
    "full_name = name + \" \" + surname\n",
    "\n",
    "# Print the full name\n",
    "print(\"Full Name:\", full_name)"
   ]
  },
  {
   "cell_type": "code",
   "execution_count": 38,
   "metadata": {},
   "outputs": [
    {
     "data": {
      "application/vnd.jupyter.widget-view+json": {
       "model_id": "cc385ef30ba64cfeab2392c39390e6ef",
       "version_major": 2,
       "version_minor": 0
      },
      "text/plain": [
       "Button(description='Check Answer(s)', style=ButtonStyle())"
      ]
     },
     "metadata": {},
     "output_type": "display_data"
    },
    {
     "data": {
      "application/vnd.jupyter.widget-view+json": {
       "model_id": "dea750af3d8a4c7db3c6b2009930139a",
       "version_major": 2,
       "version_minor": 0
      },
      "text/plain": [
       "Output()"
      ]
     },
     "metadata": {},
     "output_type": "display_data"
    }
   ],
   "source": [
    "check_example(globals(), exercise_3)"
   ]
  }
 ],
 "metadata": {
  "kernelspec": {
   "display_name": "mude-base",
   "language": "python",
   "name": "python3"
  },
  "language_info": {
   "codemirror_mode": {
    "name": "ipython",
    "version": 3
   },
   "file_extension": ".py",
   "mimetype": "text/x-python",
   "name": "python",
   "nbconvert_exporter": "python",
   "pygments_lexer": "ipython3",
   "version": "3.12.3"
  }
 },
 "nbformat": 4,
 "nbformat_minor": 2
}
