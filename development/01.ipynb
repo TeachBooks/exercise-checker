{
 "cells": [
  {
   "cell_type": "markdown",
   "metadata": {},
   "source": [
    "# Test 01\n",
    "\n",
    "This notebook contains several examples to illustrate each exercise type.\n",
    "\n",
    "The first section sets up the development environment, then the second section contains the demonstrations."
   ]
  },
  {
   "cell_type": "markdown",
   "metadata": {},
   "source": [
    "## Development Setup\n",
    "\n",
    "This section is used to set up the development environment. See README for up-to-date information."
   ]
  },
  {
   "cell_type": "code",
   "execution_count": 1,
   "metadata": {},
   "outputs": [],
   "source": [
    "%load_ext autoreload\n",
    "%autoreload 2"
   ]
  },
  {
   "cell_type": "code",
   "execution_count": 2,
   "metadata": {},
   "outputs": [],
   "source": [
    "import os\n",
    "import sys\n",
    "module_path = os.path.abspath(os.path.join('..'))\n",
    "if module_path not in sys.path:\n",
    "    sys.path.append(module_path)\n",
    "\n",
    "from exercise_checker.check import check_exercise"
   ]
  },
  {
   "cell_type": "markdown",
   "metadata": {},
   "source": [
    "## Start of Demonstrations\n",
    "\n",
    "From this cell on, things should look as they would in a \"real\" notebook in a TeachBook."
   ]
  },
  {
   "cell_type": "markdown",
   "metadata": {},
   "source": [
    "### Type: `values`"
   ]
  },
  {
   "cell_type": "code",
   "execution_count": 3,
   "metadata": {},
   "outputs": [],
   "source": [
    "exercise = {\n",
    "    \"type\": \"values\",\n",
    "    \"tolerance\": 0.01,\n",
    "    \"variables\": ['multiplication_ex1', 'addition_ex1'],\n",
    "    \"values\": [13.889, 7.53],\n",
    "}"
   ]
  },
  {
   "cell_type": "code",
   "execution_count": 4,
   "metadata": {},
   "outputs": [],
   "source": [
    "# input two values to be multiplied \n",
    "x1 = 3.23\n",
    "x2 = 4.3\n",
    "\n",
    "# student will insert the result here\n",
    "multiplication_ex1 = x1*x2\n",
    "addition_ex1 = x1+x2\n"
   ]
  },
  {
   "cell_type": "code",
   "execution_count": 5,
   "metadata": {},
   "outputs": [
    {
     "data": {
      "application/vnd.jupyter.widget-view+json": {
       "model_id": "ed37f2dd0ffa428d8e87e9de6d1f0f15",
       "version_major": 2,
       "version_minor": 0
      },
      "text/plain": [
       "Button(description='Check Answer(s)', style=ButtonStyle())"
      ]
     },
     "metadata": {},
     "output_type": "display_data"
    },
    {
     "data": {
      "application/vnd.jupyter.widget-view+json": {
       "model_id": "21b68818105a454982ada0c6a71c4593",
       "version_major": 2,
       "version_minor": 0
      },
      "text/plain": [
       "Output()"
      ]
     },
     "metadata": {},
     "output_type": "display_data"
    }
   ],
   "source": [
    "check_exercise(globals(), exercise)"
   ]
  },
  {
   "cell_type": "markdown",
   "metadata": {},
   "source": [
    "### Type: `function`"
   ]
  },
  {
   "cell_type": "code",
   "execution_count": 6,
   "metadata": {},
   "outputs": [],
   "source": [
    "exercise_2 = {\n",
    "    \"type\": \"function\",\n",
    "    \"tolerance\": 0.01,\n",
    "    \"name\": 'find_x_with_probability_p',\n",
    "    \"tests\": [(1 - 0.001, 15.891029744351862),\n",
    "              (1 - 0.2, 2.0838374640878863),\n",
    "              (1 - 0.9, -3.875794191615308)],\n",
    "}"
   ]
  },
  {
   "cell_type": "code",
   "execution_count": 7,
   "metadata": {},
   "outputs": [],
   "source": [
    "import numpy as np\n",
    "\n",
    "def find_x_with_probability_p(p): \n",
    "    \"\"\" Compute point in the gumbel distribution for which the CDF is p\n",
    "        Use the variables mu and beta defined above!\n",
    "        Hint: they have been defined globally, so you don't need to \n",
    "                include them as arguments.\n",
    "    \"\"\"\n",
    "    mu = -1.7461\n",
    "    beta = 2.55342\n",
    "    x = mu - beta * np.log(-np.log(p))\n",
    "\n",
    "    return x\n"
   ]
  },
  {
   "cell_type": "code",
   "execution_count": 8,
   "metadata": {},
   "outputs": [
    {
     "data": {
      "application/vnd.jupyter.widget-view+json": {
       "model_id": "88f4e710f1904fedbb9e55101ef0e696",
       "version_major": 2,
       "version_minor": 0
      },
      "text/plain": [
       "Button(description='Check Answer(s)', style=ButtonStyle())"
      ]
     },
     "metadata": {},
     "output_type": "display_data"
    },
    {
     "data": {
      "application/vnd.jupyter.widget-view+json": {
       "model_id": "2801b6b163bf4241baf90f9a20efcdc4",
       "version_major": 2,
       "version_minor": 0
      },
      "text/plain": [
       "Output()"
      ]
     },
     "metadata": {},
     "output_type": "display_data"
    }
   ],
   "source": [
    "check_exercise(globals(), exercise_2)"
   ]
  },
  {
   "cell_type": "markdown",
   "metadata": {},
   "source": [
    "### Type: `strings`"
   ]
  },
  {
   "cell_type": "code",
   "execution_count": 9,
   "metadata": {},
   "outputs": [],
   "source": [
    "exercise_3 = {\n",
    "    \"type\": \"strings\",\n",
    "    \"variables\": ['name', 'full_name'],\n",
    "    \"values\": ['Federico', 'Federico Raimondi'],\n",
    "}"
   ]
  },
  {
   "cell_type": "code",
   "execution_count": 10,
   "metadata": {},
   "outputs": [
    {
     "name": "stdout",
     "output_type": "stream",
     "text": [
      "Full Name: Federico Raimondi\n"
     ]
    }
   ],
   "source": [
    "# Define the name and surname variables\n",
    "name = \"Federico\"\n",
    "surname = \"Raimondi\"\n",
    "\n",
    "# Combine them to create the full name\n",
    "full_name = name + \" \" + surname\n",
    "\n",
    "# Print the full name\n",
    "print(\"Full Name:\", full_name)"
   ]
  },
  {
   "cell_type": "code",
   "execution_count": 11,
   "metadata": {},
   "outputs": [
    {
     "data": {
      "application/vnd.jupyter.widget-view+json": {
       "model_id": "edb2b726bf634c5788b602fd873f88ac",
       "version_major": 2,
       "version_minor": 0
      },
      "text/plain": [
       "Button(description='Check Answer(s)', style=ButtonStyle())"
      ]
     },
     "metadata": {},
     "output_type": "display_data"
    },
    {
     "data": {
      "application/vnd.jupyter.widget-view+json": {
       "model_id": "5cbb6fe5e33c48679054a25fa3be6126",
       "version_major": 2,
       "version_minor": 0
      },
      "text/plain": [
       "Output()"
      ]
     },
     "metadata": {},
     "output_type": "display_data"
    }
   ],
   "source": [
    "check_exercise(globals(), exercise_3)"
   ]
  },
  {
   "cell_type": "markdown",
   "metadata": {},
   "source": [
    "### Type: `values_type`"
   ]
  },
  {
   "cell_type": "code",
   "execution_count": 12,
   "metadata": {},
   "outputs": [],
   "source": [
    "exercise_4 = {\n",
    "    \"type\": \"values_type\",\n",
    "    \"tolerance\": 0.01,\n",
    "    \"variables\": ['multiplication_ex4', 'addition_ex4'],\n",
    "    \"values\": [7, 5.5],\n",
    "    \"values_type\": [[int,str], float],\n",
    "}"
   ]
  },
  {
   "cell_type": "code",
   "execution_count": 13,
   "metadata": {},
   "outputs": [],
   "source": [
    "# input two values to be multiplied \n",
    "x1 = 3.5\n",
    "x2 = 2\n",
    "\n",
    "# student will insert the result here\n",
    "multiplication_ex4 = 7\n",
    "addition_ex4 = 5.5"
   ]
  },
  {
   "cell_type": "code",
   "execution_count": 14,
   "metadata": {},
   "outputs": [
    {
     "data": {
      "application/vnd.jupyter.widget-view+json": {
       "model_id": "029a409a00794fd3af5f4cd9347e7c03",
       "version_major": 2,
       "version_minor": 0
      },
      "text/plain": [
       "Button(description='Check Answer(s)', style=ButtonStyle())"
      ]
     },
     "metadata": {},
     "output_type": "display_data"
    },
    {
     "data": {
      "application/vnd.jupyter.widget-view+json": {
       "model_id": "35c5286ee0f2441da54185f81a537c07",
       "version_major": 2,
       "version_minor": 0
      },
      "text/plain": [
       "Output()"
      ]
     },
     "metadata": {},
     "output_type": "display_data"
    }
   ],
   "source": [
    "check_exercise(globals(), exercise_4) "
   ]
  },
  {
   "cell_type": "markdown",
   "metadata": {},
   "source": [
    "### Tolerance: `tolerance_type`"
   ]
  },
  {
   "cell_type": "code",
   "execution_count": 16,
   "metadata": {},
   "outputs": [],
   "source": [
    "tolerance_type = {\n",
    "    \"type\": \"limits\",\n",
    "    \"value\": [[10,15],[8,9]]\n",
    "}\n",
    "\n",
    "exercise_6 = {\n",
    "    \"type\": \"values\",\n",
    "    \"tolerance\": tolerance_type,\n",
    "    \"variables\": ['multiplication_ex1', 'addition_ex1'],\n",
    "    \"values\": [13.889, 7.53],\n",
    "}\n",
    "\n"
   ]
  },
  {
   "cell_type": "code",
   "execution_count": 17,
   "metadata": {},
   "outputs": [],
   "source": [
    "# input two values to be multiplied \n",
    "x1 = 3.23\n",
    "x2 = 4.3\n",
    "\n",
    "# student will insert the result here\n",
    "multiplication_ex6 = x1*x2\n",
    "addition_ex6 = x1+x2"
   ]
  },
  {
   "cell_type": "code",
   "execution_count": 18,
   "metadata": {},
   "outputs": [
    {
     "data": {
      "application/vnd.jupyter.widget-view+json": {
       "model_id": "1c0f9b104d0e40d6afa944dd2611b5e7",
       "version_major": 2,
       "version_minor": 0
      },
      "text/plain": [
       "Button(description='Check Answer(s)', style=ButtonStyle())"
      ]
     },
     "metadata": {},
     "output_type": "display_data"
    },
    {
     "data": {
      "application/vnd.jupyter.widget-view+json": {
       "model_id": "c18d1ef143b64e179e948cb73f6032b0",
       "version_major": 2,
       "version_minor": 0
      },
      "text/plain": [
       "Output()"
      ]
     },
     "metadata": {},
     "output_type": "display_data"
    }
   ],
   "source": [
    "check_exercise(globals(), exercise_6)"
   ]
  }
 ],
 "metadata": {
  "kernelspec": {
   "display_name": "Python 3 (ipykernel)",
   "language": "python",
   "name": "python3"
  },
  "language_info": {
   "codemirror_mode": {
    "name": "ipython",
    "version": 3
   },
   "file_extension": ".py",
   "mimetype": "text/x-python",
   "name": "python",
   "nbconvert_exporter": "python",
   "pygments_lexer": "ipython3",
   "version": "3.11.7"
  }
 },
 "nbformat": 4,
 "nbformat_minor": 4
}
