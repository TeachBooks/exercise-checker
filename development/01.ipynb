{
 "cells": [
  {
   "cell_type": "markdown",
   "metadata": {},
   "source": [
    "# Test 01\n",
    "\n",
    "Initial tests by Federico.\n",
    "\n",
    "We will now create several example with simple functions such as multiplication and addition to verify whether the code works."
   ]
  },
  {
   "cell_type": "markdown",
   "metadata": {},
   "source": [
    "## Development Setup\n",
    "\n",
    "This section is used to set up the development environment. Once the package is ready for deployment, conventional book usage will be somehting like:\n",
    "\n",
    "```\n",
    "import teachbooks-exercise-checker\n",
    "```\n",
    "\n",
    "Keep the README up to date if something is changed here."
   ]
  },
  {
   "cell_type": "code",
   "execution_count": 11,
   "metadata": {},
   "outputs": [
    {
     "name": "stdout",
     "output_type": "stream",
     "text": [
      "The autoreload extension is already loaded. To reload it, use:\n",
      "  %reload_ext autoreload\n"
     ]
    }
   ],
   "source": [
    "%load_ext autoreload\n",
    "%autoreload 2"
   ]
  },
  {
   "cell_type": "code",
   "execution_count": 12,
   "metadata": {},
   "outputs": [],
   "source": [
    "import os\n",
    "import sys\n",
    "module_path = os.path.abspath(os.path.join('..'))\n",
    "if module_path not in sys.path:\n",
    "    sys.path.append(module_path)"
   ]
  },
  {
   "cell_type": "code",
   "execution_count": 13,
   "metadata": {},
   "outputs": [],
   "source": [
    "from exercise_checker.check import check\n",
    "assert callable(check)"
   ]
  },
  {
   "cell_type": "markdown",
   "metadata": {},
   "source": [
    "## Checker Function"
   ]
  },
  {
   "cell_type": "code",
   "execution_count": 14,
   "metadata": {},
   "outputs": [],
   "source": [
    "#Checker function for the exercise \n",
    "from math import isclose\n",
    "import numpy as np\n",
    "\n",
    "@check\n",
    "def check_example(glob, dict):\n",
    "    check_float = lambda a, b: isclose(a, b, rel_tol=0, abs_tol=dict[\"tolerance\"])\n",
    "    check_string = lambda a,b: a == b\n",
    "    if dict[\"exercise\"] == \"checking values\":\n",
    "\n",
    "        # Initialize result as an empty list\n",
    "        result = []\n",
    "        for i in range(len(dict[\"values\"])):\n",
    "            # Access global variables dynamically\n",
    "            result.append(glob[dict[\"variables\"][i]])\n",
    "            \n",
    "            # Check if the values match within tolerance\n",
    "            if check_float(result[i], dict[\"values\"][i]):\n",
    "                print(f\"You got the parameter '{dict['variables'][i]}' right, well done! (checked with tolerance {dict['tolerance']})\")\n",
    "            else:\n",
    "                print(f\"The parameter '{dict['variables'][i]}' is incorrect. (checked with tolerance {dict['tolerance']})\")\n",
    "                print(\"          Other parts won't be graded until these are fixed.\")\n",
    "                return\n",
    "            \n",
    "    if dict[\"exercise\"] == \"checking function\":\n",
    "        function = glob[dict[\"function\"]]\n",
    "\t\n",
    "        test_inputs = dict[\"inputs\"]\n",
    "        failed = []\n",
    "\n",
    "        for x, out in test_inputs:\n",
    "            result = function(x)\n",
    "            if not check_float(result, out):\n",
    "                failed.append((x, out, result))\n",
    "\n",
    "        if len(failed) == 0:\n",
    "            print(f\"Well done, your function is correct! (checked with tolerance {dict['tolerance']})\")\t\n",
    "        else:\n",
    "            print(f\"Your function failed some tests. Keep in mind the tolerance is {dict['tolerance']}\")\n",
    "            print(\"    --> Failed inputs:\")\n",
    "            for case in failed:\n",
    "                print(f\"{case[0]} gave {case[2]}, expected {case[1]}\")\n",
    "            print(f\"      Other parts won't be graded until these are fixed.\")\n",
    "            return\n",
    "        \n",
    "    if dict[\"exercise\"] == \"checking strings\":\n",
    "\n",
    "        # Initialize string as an empty list\n",
    "        result = []\n",
    "        for i in range(len(dict[\"values\"])):\n",
    "            # Access global variables dynamically\n",
    "            result.append(glob[dict[\"variables\"][i]])\n",
    "            \n",
    "            # Check if the strings match\n",
    "            if check_string(result[i], dict[\"values\"][i]):\n",
    "                print(f\"You got the string '{dict['variables'][i]}' right, well done!\")\n",
    "            else:\n",
    "                print(f\"The string '{dict['variables'][i]}' is incorrect.\")\n",
    "                print(\"          Ensure proper capitalization is used where necessary.\")\n",
    "                print(\"          Other parts won't be graded until these are fixed.\")\n",
    "                return\n",
    "    \n",
    "\t"
   ]
  },
  {
   "cell_type": "markdown",
   "metadata": {},
   "source": [
    "## Result Checker Example"
   ]
  },
  {
   "cell_type": "code",
   "execution_count": 15,
   "metadata": {},
   "outputs": [],
   "source": [
    "# Creating a dictionary where the type of exercise and the solution will be stored\n",
    "my_dict = {\n",
    "    \"exercise\": \"checking values\",\n",
    "    \"tolerance\": 0.01,\n",
    "    \"variables\": ['multiplication', 'addition'],\n",
    "    \"values\": [13.889, 7.53],\n",
    "}"
   ]
  },
  {
   "cell_type": "code",
   "execution_count": 16,
   "metadata": {},
   "outputs": [],
   "source": [
    "# exercise script for checking values\n",
    "# input two values to be multiplied \n",
    "x1 = 3.23\n",
    "x2 = 4.3\n",
    "\n",
    "# student will insert the result here\n",
    "multiplication = 13.89\n",
    "addition = 7.53\n"
   ]
  },
  {
   "cell_type": "code",
   "execution_count": 17,
   "metadata": {},
   "outputs": [
    {
     "data": {
      "application/vnd.jupyter.widget-view+json": {
       "model_id": "472e752e45dd4cb2b1ae4aa871d06918",
       "version_major": 2,
       "version_minor": 0
      },
      "text/plain": [
       "Button(description='Check Answer(s)', style=ButtonStyle())"
      ]
     },
     "metadata": {},
     "output_type": "display_data"
    },
    {
     "data": {
      "application/vnd.jupyter.widget-view+json": {
       "model_id": "2b91afaeeaf14b1b8b3e1292a7e0ccf2",
       "version_major": 2,
       "version_minor": 0
      },
      "text/plain": [
       "Output()"
      ]
     },
     "metadata": {},
     "output_type": "display_data"
    }
   ],
   "source": [
    "check_example(globals(), my_dict)"
   ]
  },
  {
   "cell_type": "markdown",
   "metadata": {},
   "source": [
    "## Function Checker Example"
   ]
  },
  {
   "cell_type": "code",
   "execution_count": 18,
   "metadata": {},
   "outputs": [],
   "source": [
    "my_dict2 = {\n",
    "    \"exercise\": \"checking function\",\n",
    "    \"tolerance\": 0.01,\n",
    "    \"function\": 'find_x_with_probability_p',\n",
    "    \"inputs\": [(1 - 0.001, 15.891029744351862), (1 - 0.2, 2.0838374640878863), (1 - 0.9, -3.875794191615308)],\n",
    "}\n",
    "\n",
    "\n",
    "#!!!! The dictionaries must be recalled with the above categories name otherwise function won't work "
   ]
  },
  {
   "cell_type": "code",
   "execution_count": 19,
   "metadata": {},
   "outputs": [],
   "source": [
    "# exercise script for checking function\n",
    "\n",
    "def find_x_with_probability_p(p): \n",
    "    \"\"\" Compute point in the gumbel distribution for which the CDF is p\n",
    "        Use the variables mu and beta defined above!\n",
    "        Hint: they have been defined globally, so you don't need to \n",
    "                include them as arguments.\n",
    "    \"\"\"\n",
    "    mu = -1.7461\n",
    "    beta = 2.55342\n",
    "    x = mu - beta * np.log(-np.log(p))\n",
    "\n",
    "    return x\n"
   ]
  },
  {
   "cell_type": "code",
   "execution_count": 20,
   "metadata": {},
   "outputs": [
    {
     "data": {
      "application/vnd.jupyter.widget-view+json": {
       "model_id": "c412d6adf07e4594aa65df2ab61bcca6",
       "version_major": 2,
       "version_minor": 0
      },
      "text/plain": [
       "Button(description='Check Answer(s)', style=ButtonStyle())"
      ]
     },
     "metadata": {},
     "output_type": "display_data"
    },
    {
     "data": {
      "application/vnd.jupyter.widget-view+json": {
       "model_id": "43d56abe93c843248783ebd988b94201",
       "version_major": 2,
       "version_minor": 0
      },
      "text/plain": [
       "Output()"
      ]
     },
     "metadata": {},
     "output_type": "display_data"
    }
   ],
   "source": [
    "check_example(globals(), my_dict2)"
   ]
  },
  {
   "cell_type": "markdown",
   "metadata": {},
   "source": [
    "## String Checker Example"
   ]
  },
  {
   "cell_type": "code",
   "execution_count": 21,
   "metadata": {},
   "outputs": [],
   "source": [
    "my_dict3 = {\n",
    "    \"exercise\": \"checking strings\",\n",
    "    \"variables\": ['name', 'full_name'],\n",
    "    \"values\": ['Federico', 'Federico Raimondi'],\n",
    "}\n",
    "\n",
    "\n",
    "#!!!! The dictionaries must be recalled with the above categories name otherwise function won't work "
   ]
  },
  {
   "cell_type": "code",
   "execution_count": 22,
   "metadata": {},
   "outputs": [
    {
     "name": "stdout",
     "output_type": "stream",
     "text": [
      "Full Name: Federico Raimondi\n"
     ]
    }
   ],
   "source": [
    "# exercise script for checking strings\n",
    "# Define the name and surname variables\n",
    "name = \"Federico\"\n",
    "surname = \"Raimondi\"\n",
    "\n",
    "# Combine them to create the full name\n",
    "full_name = name + \" \" + surname\n",
    "\n",
    "# Print the full name\n",
    "print(\"Full Name:\", full_name)"
   ]
  },
  {
   "cell_type": "code",
   "execution_count": 23,
   "metadata": {},
   "outputs": [
    {
     "data": {
      "application/vnd.jupyter.widget-view+json": {
       "model_id": "51198d02c19343a197c1433c61a861bb",
       "version_major": 2,
       "version_minor": 0
      },
      "text/plain": [
       "Button(description='Check Answer(s)', style=ButtonStyle())"
      ]
     },
     "metadata": {},
     "output_type": "display_data"
    },
    {
     "data": {
      "application/vnd.jupyter.widget-view+json": {
       "model_id": "b82e3f2bbaea4c3f91b91bb38d6de490",
       "version_major": 2,
       "version_minor": 0
      },
      "text/plain": [
       "Output()"
      ]
     },
     "metadata": {},
     "output_type": "display_data"
    }
   ],
   "source": [
    "check_example(globals(), my_dict3)"
   ]
  }
 ],
 "metadata": {
  "kernelspec": {
   "display_name": "mude-base",
   "language": "python",
   "name": "python3"
  },
  "language_info": {
   "codemirror_mode": {
    "name": "ipython",
    "version": 3
   },
   "file_extension": ".py",
   "mimetype": "text/x-python",
   "name": "python",
   "nbconvert_exporter": "python",
   "pygments_lexer": "ipython3",
   "version": "3.12.3"
  }
 },
 "nbformat": 4,
 "nbformat_minor": 2
}
