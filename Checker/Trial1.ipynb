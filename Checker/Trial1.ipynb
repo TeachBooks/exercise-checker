{
 "cells": [
  {
   "cell_type": "markdown",
   "metadata": {},
   "source": [
    "# Checker Package"
   ]
  },
  {
   "cell_type": "markdown",
   "metadata": {},
   "source": [
    "**Checker Package: Goal and Purpose**  \n",
    "\n",
    "The *Checker* package is designed to streamline the creation and evaluation of exercises in Jupyter notebooks. Teachers can define exercises using a dictionary in a notebook cell, ensuring a simple and intuitive setup. Once the *Checker* package is imported, it generates all necessary checking functions automatically, enabling seamless integration with the notebook. This approach minimizes the need for repetitive code, allowing educators to focus on content creation and providing students with an efficient and interactive learning experience."
   ]
  },
  {
   "cell_type": "markdown",
   "metadata": {},
   "source": [
    "First step is creating a decorator function that will create the check answer botton and will allow the student to check their answer with the correct solution."
   ]
  },
  {
   "cell_type": "code",
   "execution_count": 14,
   "metadata": {},
   "outputs": [],
   "source": [
    "from IPython.display import display\n",
    "import ipywidgets as widgets\n",
    "\n",
    "def check(f):\n",
    "\tdef wrapper(*args, **kwargs):\n",
    "\t\toutput = widgets.Output()\n",
    "\t\tbutton = widgets.Button(description=\"Check Answer(s)\")\n",
    "\t\t@output.capture(clear_output=True,wait=True)\n",
    "\t\tdef _inner_check(button):\n",
    "\t\t\ttry:\t\n",
    "\t\t\t\tf(*args, **kwargs)\n",
    "\t\t\texcept:\n",
    "\t\t\t\tprint(\"Something went wrong, have you filled all the functions and run the cells?\")\n",
    "\t\tbutton.on_click(_inner_check)\n",
    "\t\tdisplay(button, output)\n",
    "\treturn wrapper"
   ]
  },
  {
   "cell_type": "markdown",
   "metadata": {},
   "source": [
    "We will now create several example with simple fnctions such as multiplication and addition to verify whether the code works."
   ]
  },
  {
   "cell_type": "markdown",
   "metadata": {},
   "source": [
    "## Multiplication example"
   ]
  },
  {
   "cell_type": "code",
   "execution_count": 15,
   "metadata": {},
   "outputs": [],
   "source": [
    "#Checker function for the exercise \n",
    "from math import isclose\n",
    "import numpy as np\n",
    "\n",
    "@check\n",
    "def check_example(glob, dict):\n",
    "    check_float = lambda a, b: isclose(a, b, rel_tol=0, abs_tol=dict[\"tolerance\"])\n",
    "    if dict[\"exercise\"] == \"checking values\":\n",
    "\n",
    "        # Initialize result as an empty list\n",
    "        result = []\n",
    "        for i in range(len(dict[\"values\"])):\n",
    "            # Access global variables dynamically\n",
    "            result.append(glob[dict[\"variables\"][i]])\n",
    "            \n",
    "            # Check if the values match within tolerance\n",
    "            if check_float(result[i], dict[\"values\"][i]):\n",
    "                print(f\"You got the parameter '{dict['variables'][i]}' right, well done! (checked with tolerance {dict['tolerance']})\")\n",
    "            else:\n",
    "                print(f\"The parameter '{dict['variables'][i]}' is incorrect. (checked with tolerance {dict['tolerance']})\")\n",
    "                print(\"          Other parts won't be graded until these are fixed.\")\n",
    "                return\n",
    "            \n",
    "    if dict[\"exercise\"] == \"checking function\":\n",
    "        function = glob[dict[\"function\"]]\n",
    "\t\n",
    "        test_inputs = dict[\"inputs\"]\n",
    "        failed = []\n",
    "\n",
    "        for x, out in test_inputs:\n",
    "            result = function(x)\n",
    "            if not check_float(result, out):\n",
    "                failed.append((x, out, result))\n",
    "\n",
    "        if len(failed) == 0:\n",
    "            print(f\"Well done, your function is correct! (checked with tolerance {dict['tolerance']})\")\t\n",
    "        else:\n",
    "            print(f\"Your function failed some tests. Keep in mind the tolerance is {dict['tolerance']}\")\n",
    "            print(\"    --> Failed inputs:\")\n",
    "            for case in failed:\n",
    "                print(f\"{case[0]} gave {case[2]}, expected {case[1]}\")\n",
    "            print(f\"      Other parts won't be graded until these are fixed.\")\n",
    "            return\n",
    "\n",
    "\t"
   ]
  },
  {
   "cell_type": "code",
   "execution_count": 16,
   "metadata": {},
   "outputs": [],
   "source": [
    "# Creating a dictionary where the type of exercise and the solution will be stored\n",
    "my_dict = {\n",
    "    \"exercise\": \"checking values\",\n",
    "    \"tolerance\": 0.01,\n",
    "    \"variables\": ['multiplication', 'addition'],\n",
    "    \"values\": [13.889, 7.53],\n",
    "}"
   ]
  },
  {
   "cell_type": "code",
   "execution_count": 17,
   "metadata": {},
   "outputs": [],
   "source": [
    "# exercise script for checking values\n",
    "# input two values to be multiplied \n",
    "x1 = 3.23\n",
    "x2 = 4.3\n",
    "\n",
    "# student will insert the result here\n",
    "multiplication = 13.89\n",
    "addition = 7.53\n"
   ]
  },
  {
   "cell_type": "code",
   "execution_count": 18,
   "metadata": {},
   "outputs": [
    {
     "data": {
      "application/vnd.jupyter.widget-view+json": {
       "model_id": "360dedb5288c4428adaa66ea776b5d99",
       "version_major": 2,
       "version_minor": 0
      },
      "text/plain": [
       "Button(description='Check Answer(s)', style=ButtonStyle())"
      ]
     },
     "metadata": {},
     "output_type": "display_data"
    },
    {
     "data": {
      "application/vnd.jupyter.widget-view+json": {
       "model_id": "e2efdb5876a048de88f1e14f331e6d01",
       "version_major": 2,
       "version_minor": 0
      },
      "text/plain": [
       "Output()"
      ]
     },
     "metadata": {},
     "output_type": "display_data"
    }
   ],
   "source": [
    "check_example(globals(), my_dict)"
   ]
  },
  {
   "cell_type": "markdown",
   "metadata": {},
   "source": [
    "## Function Example "
   ]
  },
  {
   "cell_type": "code",
   "execution_count": 19,
   "metadata": {},
   "outputs": [],
   "source": [
    "my_dict2 = {\n",
    "    \"exercise\": \"checking function\",\n",
    "    \"tolerance\": 0.01,\n",
    "    \"function\": 'find_x_with_probability_p',\n",
    "    \"inputs\": [(1 - 0.001, 15.891029744351862), (1 - 0.2, 2.0838374640878863), (1 - 0.9, -3.875794191615308)],\n",
    "}\n",
    "\n",
    "\n",
    "#!!!! The dictionaries must be recalled with the above categories name otherwise function won't work "
   ]
  },
  {
   "cell_type": "code",
   "execution_count": 20,
   "metadata": {},
   "outputs": [],
   "source": [
    "# exercise script for checking function\n",
    "\n",
    "def find_x_with_probability_p(p): \n",
    "    \"\"\" Compute point in the gumbel distribution for which the CDF is p\n",
    "        Use the variables mu and beta defined above!\n",
    "        Hint: they have been defined globally, so you don't need to \n",
    "                include them as arguments.\n",
    "    \"\"\"\n",
    "    mu = -1.7461\n",
    "    beta = 2.55342\n",
    "    x = mu - beta * np.log(-np.log(p))\n",
    "\n",
    "    return x\n"
   ]
  },
  {
   "cell_type": "code",
   "execution_count": 21,
   "metadata": {},
   "outputs": [
    {
     "data": {
      "application/vnd.jupyter.widget-view+json": {
       "model_id": "760529e44cff446281d8ee7ccb743f4d",
       "version_major": 2,
       "version_minor": 0
      },
      "text/plain": [
       "Button(description='Check Answer(s)', style=ButtonStyle())"
      ]
     },
     "metadata": {},
     "output_type": "display_data"
    },
    {
     "data": {
      "application/vnd.jupyter.widget-view+json": {
       "model_id": "7f82f677c6cc4df3b682db573abbd31f",
       "version_major": 2,
       "version_minor": 0
      },
      "text/plain": [
       "Output()"
      ]
     },
     "metadata": {},
     "output_type": "display_data"
    }
   ],
   "source": [
    "check_example(globals(), my_dict2)"
   ]
  }
 ],
 "metadata": {
  "kernelspec": {
   "display_name": "mec",
   "language": "python",
   "name": "python3"
  },
  "language_info": {
   "codemirror_mode": {
    "name": "ipython",
    "version": 3
   },
   "file_extension": ".py",
   "mimetype": "text/x-python",
   "name": "python",
   "nbconvert_exporter": "python",
   "pygments_lexer": "ipython3",
   "version": "3.11.7"
  }
 },
 "nbformat": 4,
 "nbformat_minor": 2
}
